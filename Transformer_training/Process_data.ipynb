{
 "cells": [
  {
   "cell_type": "code",
   "execution_count": 2,
   "metadata": {},
   "outputs": [],
   "source": [
    "import pickle\n",
    "import os"
   ]
  },
  {
   "cell_type": "code",
   "execution_count": 9,
   "metadata": {},
   "outputs": [],
   "source": [
    "def collect_action(episode):\n",
    "    seq = []\n",
    "    for step in episode:\n",
    "        seq.append(step[0])\n",
    "        seq.append(step[1])\n",
    "    return (seq[:-1], seq[1:])"
   ]
  },
  {
   "cell_type": "code",
   "execution_count": 16,
   "metadata": {},
   "outputs": [],
   "source": [
    "main_path = '/workspaces/Q_learning_gridworld/gridworld_agent_data'\n",
    "\n",
    "paths = [os.path.join(main_path, f'data_agent_{i}.pkl') for i in range(318)]"
   ]
  },
  {
   "cell_type": "code",
   "execution_count": 17,
   "metadata": {},
   "outputs": [],
   "source": [
    "data = []\n",
    "for path in paths:\n",
    "    with open(path, 'rb') as f:\n",
    "        agent_episodes = pickle.load(f)\n",
    "    \n",
    "    for episode in agent_episodes:\n",
    "        data.append(collect_action(episode))"
   ]
  },
  {
   "cell_type": "code",
   "execution_count": 24,
   "metadata": {},
   "outputs": [],
   "source": [
    "folder_path = '/workspaces/Q_learning_gridworld/Transformer_training'\n",
    "\n",
    "with open(os.path.join(folder_path, 'sequence_prediction.pkl'), 'wb') as f:\n",
    "    pickle.dump(data, f)"
   ]
  },
  {
   "cell_type": "code",
   "execution_count": 6,
   "metadata": {},
   "outputs": [],
   "source": [
    "def find_max_length(list_of_eps):\n",
    "    max_len = 0\n",
    "    for pair in list_of_eps:\n",
    "        for eps in pair:\n",
    "            max_len = max(max_len, len(eps))\n",
    "    return max_len\n",
    "\n",
    "def filter_eps(list_of_eps, tau):\n",
    "    filtered = []\n",
    "    for pair in list_of_eps:\n",
    "        max_len = max(len(eps) for eps in pair)\n",
    "        if max_len <= tau:\n",
    "            filtered.append(pair)\n",
    "    return filtered"
   ]
  },
  {
   "cell_type": "code",
   "execution_count": 9,
   "metadata": {},
   "outputs": [],
   "source": [
    "tau = 200\n",
    "\n",
    "filtered_list = filter_eps(data, tau)\n",
    "\n",
    "print(len(filtered_list))"
   ]
  },
  {
   "cell_type": "code",
   "execution_count": 12,
   "metadata": {},
   "outputs": [],
   "source": [
    "with open(os.path.join(folder_path, 'filtered_sequence.pkl'), 'wb') as f:\n",
    "    pickle.dump(filtered_list, f)"
   ]
  },
  {
   "cell_type": "code",
   "execution_count": 13,
   "metadata": {},
   "outputs": [
    {
     "name": "stdout",
     "output_type": "stream",
     "text": [
      "199\n"
     ]
    }
   ],
   "source": [
    "print(find_max_length(filtered_list))"
   ]
  }
 ],
 "metadata": {
  "kernelspec": {
   "display_name": "Python 3 (ipykernel)",
   "language": "python",
   "name": "python3"
  },
  "language_info": {
   "codemirror_mode": {
    "name": "ipython",
    "version": 3
   },
   "file_extension": ".py",
   "mimetype": "text/x-python",
   "name": "python",
   "nbconvert_exporter": "python",
   "pygments_lexer": "ipython3",
   "version": "3.10.13"
  }
 },
 "nbformat": 4,
 "nbformat_minor": 2
}
